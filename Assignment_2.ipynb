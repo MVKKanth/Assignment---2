{
  "nbformat": 4,
  "nbformat_minor": 0,
  "metadata": {
    "colab": {
      "name": "Assignment - 2.ipynb",
      "private_outputs": true,
      "provenance": [],
      "authorship_tag": "ABX9TyMBho/fwGeLmrYrT/EHGLC0",
      "include_colab_link": true
    },
    "kernelspec": {
      "name": "python3",
      "display_name": "Python 3"
    },
    "language_info": {
      "name": "python"
    }
  },
  "cells": [
    {
      "cell_type": "markdown",
      "metadata": {
        "id": "view-in-github",
        "colab_type": "text"
      },
      "source": [
        "<a href=\"https://colab.research.google.com/github/MVKKanth/Assignment---2/blob/main/Assignment_2.ipynb\" target=\"_parent\"><img src=\"https://colab.research.google.com/assets/colab-badge.svg\" alt=\"Open In Colab\"/></a>"
      ]
    },
    {
      "cell_type": "code",
      "metadata": {
        "id": "rKCBvDVDHRv9"
      },
      "source": [
        "import numpy as np\n",
        "import matplotlib.pyplot as plt\n",
        "import numpy.linalg as LA\n",
        "\n",
        "plt.axis([-3,3,-10,8])\n",
        "\n",
        "plt.axis('on')\n",
        "plt.grid(True)\n",
        "\n",
        "A = np.array([1,3])\n",
        "B = np.array([2,7])\n",
        "P = np.array([-2,-9])\n",
        "\n",
        "def line_gen(A,B):\n",
        "  len =10\n",
        "  dim = A.shape[0]\n",
        "  x_AB = np.zeros((dim,len))\n",
        "  lam_1 = np.linspace(0,1,len)\n",
        "  for i in range(len):\n",
        "    temp1 = A + lam_1[i]*(B-A)\n",
        "    x_AB[:,i]= temp1.T\n",
        "  return x_AB\n",
        "\n",
        "  #Generating all lines\n",
        "x_AP = line_gen(A,P)\n",
        "x_PB = line_gen(P,B)\n",
        "\n",
        "#Plotting all lines\n",
        "plt.plot(x_AP[0,:],x_AP[1,:],label='$AP$')\n",
        "plt.plot(x_PB[0,:],x_PB[1,:],label='$PB$')\n",
        "\n",
        "plt.text(1,3,'A(1,3)')\n",
        "plt.text(2,7,'B(2,7)')\n",
        "plt.text(-2,-9,'P(-2,-9)')\n",
        "\n",
        "plt.savefig('line division.png')\n",
        "plt.show()"
      ],
      "execution_count": null,
      "outputs": []
    }
  ]
}